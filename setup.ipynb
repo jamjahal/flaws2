{
 "cells": [
  {
   "cell_type": "code",
   "execution_count": 4,
   "metadata": {},
   "outputs": [],
   "source": [
    "import re\n",
    "import ast\n",
    "import os.path\n",
    "import sys\n",
    "from setuptools import setup, find_packages"
   ]
  },
  {
   "cell_type": "code",
   "execution_count": 5,
   "metadata": {},
   "outputs": [
    {
     "ename": "FileNotFoundError",
     "evalue": "[Errno 2] No such file or directory: 'flaws2/__about__.py'",
     "output_type": "error",
     "traceback": [
      "\u001b[0;31m---------------------------------------------------------------------------\u001b[0m",
      "\u001b[0;31mFileNotFoundError\u001b[0m                         Traceback (most recent call last)",
      "\u001b[0;32m<ipython-input-5-a19302249b3b>\u001b[0m in \u001b[0;36m<module>\u001b[0;34m\u001b[0m\n\u001b[1;32m      1\u001b[0m \u001b[0m_version_re\u001b[0m\u001b[0;34m=\u001b[0m\u001b[0mre\u001b[0m\u001b[0;34m.\u001b[0m\u001b[0mcompile\u001b[0m\u001b[0;34m(\u001b[0m\u001b[0;34mr'__version__\\s+=\\s+(.*)'\u001b[0m\u001b[0;34m)\u001b[0m\u001b[0;34m\u001b[0m\u001b[0;34m\u001b[0m\u001b[0m\n\u001b[0;32m----> 2\u001b[0;31m \u001b[0;32mwith\u001b[0m \u001b[0mopen\u001b[0m\u001b[0;34m(\u001b[0m\u001b[0;34m'flaws2/__about__.py'\u001b[0m\u001b[0;34m,\u001b[0m \u001b[0;34m'rb'\u001b[0m\u001b[0;34m)\u001b[0m \u001b[0;32mas\u001b[0m \u001b[0mf\u001b[0m\u001b[0;34m:\u001b[0m\u001b[0;34m\u001b[0m\u001b[0;34m\u001b[0m\u001b[0m\n\u001b[0m\u001b[1;32m      3\u001b[0m     DETECT_VERSION = str(ast.literal_eval(_version_re.search(\n\u001b[1;32m      4\u001b[0m         f.read().decode('utf-8')).group(1)))\n\u001b[1;32m      5\u001b[0m \u001b[0;34m\u001b[0m\u001b[0m\n",
      "\u001b[0;31mFileNotFoundError\u001b[0m: [Errno 2] No such file or directory: 'flaws2/__about__.py'"
     ]
    }
   ],
   "source": [
    "_version_re=re.compile(r'__version__\\s+=\\s+(.*)')\n",
    "with open('flaws2/__about__.py', 'rb') as f:\n",
    "    DETECT_VERSION = str(ast.literal_eval(_version_re.search(\n",
    "        f.read().decode('utf-8')).group(1)))\n",
    "    "
   ]
  },
  {
   "cell_type": "code",
   "execution_count": null,
   "metadata": {},
   "outputs": [],
   "source": [
    "# addint eh src/ directory to the sys.path to be able to import ourselves\n",
    "\n",
    "sys.path.insert(0, ROOT)\n",
    "\n",
    "install_requirements = [\n",
    "    'boto3>=1.12.6',\n",
    "    'PyYAML>=5.3'\n",
    "]\n",
    "\n",
    "setup(\n",
    "    name='flaws2',\n",
    "    version=DETECT_VERSION,\n",
    "    long_description='Tool to identify potentially compromised AWS credentials',\n",
    "    packages-find_packages(),\n",
    "    install_requires=install_requirements,\n",
    "    entry_points= {\n",
    "        'console_scripts': []\n",
    "    })"
   ]
  }
 ],
 "metadata": {
  "kernelspec": {
   "display_name": "Python 3",
   "language": "python",
   "name": "python3"
  },
  "language_info": {
   "codemirror_mode": {
    "name": "ipython",
    "version": 3
   },
   "file_extension": ".py",
   "mimetype": "text/x-python",
   "name": "python",
   "nbconvert_exporter": "python",
   "pygments_lexer": "ipython3",
   "version": "3.7.5"
  }
 },
 "nbformat": 4,
 "nbformat_minor": 2
}
